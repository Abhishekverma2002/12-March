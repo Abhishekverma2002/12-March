{
  "nbformat": 4,
  "nbformat_minor": 0,
  "metadata": {
    "colab": {
      "name": "RecommenderSystem.ipynb",
      "provenance": [],
      "collapsed_sections": [],
      "mount_file_id": "1-PctVvsSuFGG1RiCQS4NK7H1hUCTPonS",
      "authorship_tag": "ABX9TyM8wrXVp5VFUjdXNEJGeTU9",
      "include_colab_link": true
    },
    "kernelspec": {
      "name": "python3",
      "display_name": "Python 3"
    },
    "language_info": {
      "name": "python"
    }
  },
  "cells": [
    {
      "cell_type": "markdown",
      "metadata": {
        "id": "view-in-github",
        "colab_type": "text"
      },
      "source": [
        "<a href=\"https://colab.research.google.com/github/Abhishekverma2002/12-March/blob/main/RecommenderSystem.ipynb\" target=\"_parent\"><img src=\"https://colab.research.google.com/assets/colab-badge.svg\" alt=\"Open In Colab\"/></a>"
      ]
    },
    {
      "cell_type": "code",
      "source": [
        "import pandas as pd\n",
        "import numpy as np"
      ],
      "metadata": {
        "id": "UN5biTEy8vsC"
      },
      "execution_count": null,
      "outputs": []
    },
    {
      "cell_type": "code",
      "source": [
        "dataset= pd.read_csv('/content/drive/MyDrive/movies_metadata.csv', on_bad_lines='skip', encoding = 'latin-1')\n",
        "good_data = dataset[[',id' 'title','genres','overview','vote_average']]"
      ],
      "metadata": {
        "id": "EoTNJzQU8zcW"
      },
      "execution_count": null,
      "outputs": []
    },
    {
      "cell_type": "code",
      "source": [
        "from sklearn.feature_extraction.text import TfidfVectorizer\n",
        "tfv = TfidfVectorizer(stop_words = 'english', ngram_range=(1,1), analyzer= \"word\",min_df = 1)\n",
        "good_data['overview']= good_data['overview'].fillna('')"
      ],
      "metadata": {
        "colab": {
          "base_uri": "https://localhost:8080/"
        },
        "id": "zN7r1ell-Lh8",
        "outputId": "1cf2be01-29ab-4dff-d77c-b98e731080d5"
      },
      "execution_count": null,
      "outputs": [
        {
          "output_type": "stream",
          "name": "stderr",
          "text": [
            "/usr/local/lib/python3.7/dist-packages/ipykernel_launcher.py:3: SettingWithCopyWarning: \n",
            "A value is trying to be set on a copy of a slice from a DataFrame.\n",
            "Try using .loc[row_indexer,col_indexer] = value instead\n",
            "\n",
            "See the caveats in the documentation: https://pandas.pydata.org/pandas-docs/stable/user_guide/indexing.html#returning-a-view-versus-a-copy\n",
            "  This is separate from the ipykernel package so we can avoid doing imports until\n"
          ]
        }
      ]
    },
    {
      "cell_type": "code",
      "source": [
        "#fitting\n",
        "tfv_matrix = tfv.fit_transform(good_data['overview'])"
      ],
      "metadata": {
        "id": "sIzQRhWt_nME"
      },
      "execution_count": null,
      "outputs": []
    },
    {
      "cell_type": "code",
      "source": [
        "from sklearn.metrics.pairwise import sigmoid_kernel\n",
        "sig = sigmoid_kernel(tfv_matrix,tfv_matrix)\n"
      ],
      "metadata": {
        "id": "cqJvvHiDAs9x"
      },
      "execution_count": null,
      "outputs": []
    },
    {
      "cell_type": "code",
      "source": [
        "indices = pd.Series(good_data.index,index= good_data['title']).drop_duplicates()\n",
        "indices"
      ],
      "metadata": {
        "id": "-qMPrE7HCGY8",
        "colab": {
          "base_uri": "https://localhost:8080/"
        },
        "outputId": "760d55b4-11ed-4574-c5fc-34099c598fb6"
      },
      "execution_count": null,
      "outputs": [
        {
          "output_type": "execute_result",
          "data": {
            "text/plain": [
              "title\n",
              "Toy Story                          0\n",
              "Jumanji                            1\n",
              "Grumpier Old Men                   2\n",
              "Waiting to Exhale                  3\n",
              "Father of the Bride Part II        4\n",
              "Heat                               5\n",
              "Sabrina                            6\n",
              "Tom and Huck                       7\n",
              "Sudden Death                       8\n",
              "GoldenEye                          9\n",
              "The American President            10\n",
              "Dracula: Dead and Loving It       11\n",
              "Balto                             12\n",
              "Nixon                             13\n",
              "Cutthroat Island                  14\n",
              "Casino                            15\n",
              "Sense and Sensibility             16\n",
              "Four Rooms                        17\n",
              "Ace Ventura: When Nature Calls    18\n",
              "Money Train                       19\n",
              "Get Shorty                        20\n",
              "Copycat                           21\n",
              "Assassins                         22\n",
              "Powder                            23\n",
              "Leaving Las Vegas                 24\n",
              "Othello                           25\n",
              "Now and Then                      26\n",
              "Persuasion                        27\n",
              "The City of Lost Children         28\n",
              "Dangerous Minds                   29\n",
              "Twelve Monkeys                    30\n",
              "Wings of Courage                  31\n",
              "Babe                              32\n",
              "Carrington                        33\n",
              "Dead Man Walking                  34\n",
              "Across the Sea of Time            35\n",
              "It Takes Two                      36\n",
              "Clueless                          37\n",
              "Cry, the Beloved Country          38\n",
              "Richard III                       39\n",
              "Dead Presidents                   40\n",
              "Restoration                       41\n",
              "Mortal Kombat                     42\n",
              "To Die For                        43\n",
              "How To Make An American Quilt     44\n",
              "Se7en                             45\n",
              "Pocahontas                        46\n",
              "When Night Is Falling             47\n",
              "The Usual Suspects                48\n",
              "dtype: int64"
            ]
          },
          "metadata": {},
          "execution_count": 6
        }
      ]
    },
    {
      "cell_type": "code",
      "source": [
        "def give_rec(title, sig= sig):\n",
        "  idx = indices[title]\n",
        "  sig_score=sorted( list(enumerate(sig[idx])),key=lambda x:x[1], reverse = True)\n",
        "  sig_score = sig_score[1:11]\n",
        "  movie_indices = [i[0] for i in sig_score]\n",
        "  return good_data['title'].iloc[movie_indices]\n",
        "  "
      ],
      "metadata": {
        "id": "__4opIipCsrY"
      },
      "execution_count": null,
      "outputs": []
    },
    {
      "cell_type": "code",
      "source": [
        "give_rec('Jumanji')"
      ],
      "metadata": {
        "id": "I2hVNPFeEc6D",
        "colab": {
          "base_uri": "https://localhost:8080/"
        },
        "outputId": "b2098a4e-f7ce-4bbb-edac-57e44747507b"
      },
      "execution_count": null,
      "outputs": [
        {
          "output_type": "execute_result",
          "data": {
            "text/plain": [
              "8         Sudden Death\n",
              "5                 Heat\n",
              "2     Grumpier Old Men\n",
              "42       Mortal Kombat\n",
              "30      Twelve Monkeys\n",
              "25             Othello\n",
              "17          Four Rooms\n",
              "26        Now and Then\n",
              "45               Se7en\n",
              "27          Persuasion\n",
              "Name: title, dtype: object"
            ]
          },
          "metadata": {},
          "execution_count": 15
        }
      ]
    }
  ]
}